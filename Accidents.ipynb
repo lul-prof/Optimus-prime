{
  "nbformat": 4,
  "nbformat_minor": 0,
  "metadata": {
    "colab": {
      "provenance": []
    },
    "kernelspec": {
      "name": "python3",
      "display_name": "Python 3"
    },
    "language_info": {
      "name": "python"
    }
  },
  "cells": [
    {
      "cell_type": "code",
      "execution_count": null,
      "metadata": {
        "colab": {
          "base_uri": "https://localhost:8080/"
        },
        "id": "hVdoRPJlSkts",
        "outputId": "cafb06a8-9c76-4078-8758-e4744b26e831"
      },
      "outputs": [
        {
          "output_type": "stream",
          "name": "stdout",
          "text": [
            "Mean squared err: 0.390625\n",
            "mean abslute err: 0.625\n",
            "Accident severity: [0.625]\n"
          ]
        },
        {
          "output_type": "stream",
          "name": "stderr",
          "text": [
            "/usr/local/lib/python3.10/dist-packages/sklearn/base.py:439: UserWarning: X does not have valid feature names, but LinearRegression was fitted with feature names\n",
            "  warnings.warn(\n"
          ]
        },
        {
          "output_type": "execute_result",
          "data": {
            "text/plain": [
              "['Accident_severity_predictor.pkl']"
            ]
          },
          "metadata": {},
          "execution_count": 39
        }
      ],
      "source": [
        "import pandas as pd\n",
        "import numpy as np\n",
        "from sklearn.model_selection import train_test_split\n",
        "from sklearn.linear_model import LinearRegression\n",
        "from sklearn.metrics import mean_squared_error, mean_absolute_error\n",
        "import matplotlib.pyplot as plt\n",
        "df=pd.read_csv('/content/Accidents.csv')\n",
        "df=df.dropna()\n",
        "x=df[['Vehicle speed(km/h)','Potholes', 'Manufacture year']]\n",
        "y=df['Accident severity']\n",
        "x_train,x_test,y_train,y_test=train_test_split(x,y,test_size=0.2, random_state=1)\n",
        "regressor=LinearRegression()\n",
        "regressor.fit(x_train, y_train)\n",
        "y_pred=regressor.predict(x_test)\n",
        "mse=mean_squared_error(y_test, y_pred)\n",
        "mae=mean_absolute_error(y_test, y_pred)\n",
        "print('Mean squared err:', mse)\n",
        "print('mean abslute err:', mae)\n",
        "#new data\n",
        "new_data=np.array([55,1,2023])\n",
        "predicted_severity=regressor.predict([new_data])\n",
        "print('Accident severity:', predicted_severity)\n",
        "import joblib\n",
        "joblib.dump(regressor,'Accident_severity_predictor.pkl')\n"
      ]
    }
  ]
}